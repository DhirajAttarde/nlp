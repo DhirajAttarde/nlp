{
 "cells": [
  {
   "cell_type": "code",
   "execution_count": 1,
   "id": "67f21f11",
   "metadata": {},
   "outputs": [
    {
     "name": "stderr",
     "output_type": "stream",
     "text": [
      "[nltk_data] Downloading package omw-1.4 to\n",
      "[nltk_data]     C:\\Users\\admin\\AppData\\Roaming\\nltk_data...\n",
      "[nltk_data]   Package omw-1.4 is already up-to-date!\n"
     ]
    },
    {
     "name": "stdout",
     "output_type": "stream",
     "text": [
      "{'Good_Book', 'phrase', 'formulate', 'parole', 'news', 'Christian_Bible', 'watchword', 'word', 'word_of_honor', 'Scripture', 'password', 'Book', 'Bible', 'Word_of_God', 'intelligence', 'Holy_Writ', 'tidings', 'give-and-take', 'Son', 'discussion', 'Logos', 'Word', 'articulate', 'give_voice', 'Holy_Scripture', 'countersign'}\n",
      "set()\n"
     ]
    }
   ],
   "source": [
    "#Practical 2- Find Synonyms and Antonyms using Word Embeddings\n",
    "import nltk\n",
    "nltk.download('omw-1.4')\n",
    "from nltk.corpus import wordnet\n",
    "def synonym_antonym_extractor(phrase):\n",
    "  synonyms = []\n",
    "  antonyms = []\n",
    "  for syn in wordnet.synsets(phrase):\n",
    "    for l in syn.lemmas():\n",
    "      synonyms.append(l.name())\n",
    "      if l.antonyms():\n",
    "        antonyms.append(l.antonyms()[0].name())\n",
    "\n",
    "  print(set(synonyms))\n",
    "  print(set(antonyms))\n",
    "synonym_antonym_extractor(phrase = \"word\")"
   ]
  },
  {
   "cell_type": "code",
   "execution_count": null,
   "id": "319bab3e",
   "metadata": {},
   "outputs": [],
   "source": []
  }
 ],
 "metadata": {
  "kernelspec": {
   "display_name": "Python 3 (ipykernel)",
   "language": "python",
   "name": "python3"
  },
  "language_info": {
   "codemirror_mode": {
    "name": "ipython",
    "version": 3
   },
   "file_extension": ".py",
   "mimetype": "text/x-python",
   "name": "python",
   "nbconvert_exporter": "python",
   "pygments_lexer": "ipython3",
   "version": "3.9.13"
  }
 },
 "nbformat": 4,
 "nbformat_minor": 5
}
